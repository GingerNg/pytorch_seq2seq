{
 "metadata": {
  "language_info": {
   "codemirror_mode": {
    "name": "ipython",
    "version": 3
   },
   "file_extension": ".py",
   "mimetype": "text/x-python",
   "name": "python",
   "nbconvert_exporter": "python",
   "pygments_lexer": "ipython3",
   "version": "3.7.5-final"
  },
  "orig_nbformat": 2,
  "kernelspec": {
   "name": "python3",
   "display_name": "Python 3.7.5 64-bit",
   "metadata": {
    "interpreter": {
     "hash": "31f2aee4e71d21fbe5cf8b01ff0e069b9275f58929596ceb00d14d90e3e16cd6"
    }
   }
  }
 },
 "nbformat": 4,
 "nbformat_minor": 2,
 "cells": [
  {
   "cell_type": "code",
   "execution_count": 2,
   "metadata": {},
   "outputs": [
    {
     "output_type": "execute_result",
     "data": {
      "text/plain": [
       "'漢字'"
      ]
     },
     "metadata": {},
     "execution_count": 2
    }
   ],
   "source": [
    "import opencc\n",
    "converter = opencc.OpenCC('s2t.json')\n",
    "converter.convert('汉字')  # 漢字\n"
   ]
  },
  {
   "cell_type": "code",
   "execution_count": 3,
   "metadata": {},
   "outputs": [
    {
     "output_type": "execute_result",
     "data": {
      "text/plain": [
       "'汉字'"
      ]
     },
     "metadata": {},
     "execution_count": 3
    }
   ],
   "source": [
    "converter = opencc.OpenCC('t2s.json')\n",
    "converter.convert('漢字')  # 漢字"
   ]
  },
  {
   "cell_type": "code",
   "execution_count": 4,
   "metadata": {},
   "outputs": [],
   "source": [
    "### sighan_raw 处理后的语料"
   ]
  },
  {
   "cell_type": "code",
   "execution_count": 10,
   "metadata": {},
   "outputs": [],
   "source": [
    "def preprocess(x):\n",
    "    return x.strip()"
   ]
  },
  {
   "cell_type": "code",
   "execution_count": 12,
   "metadata": {},
   "outputs": [
    {
     "output_type": "execute_result",
     "data": {
      "text/plain": [
       "['但是我不能去参加，因为我有一点事情阿！',\n",
       " '听起来是一份很好的公司。又意思又很多钱。',\n",
       " '因为我下个礼拜有很重要的考试，所以得要好好地复习。',\n",
       " '敬祝身体建慷。',\n",
       " '我很高兴听说你已经找到了工作。我真恭喜妳阿。',\n",
       " '听说你准备开一个祝会，那天我不能跟你参加。我很抱见阿。',\n",
       " '我知道，你很久以前找工作很幸苦。',\n",
       " '我很想参家你的舞会因为你的舞会总是很好玩。',\n",
       " '我下个星期非常忙所以我不能参家你的舞会。',\n",
       " '我下个星期天我妈妈回来台湾。']"
      ]
     },
     "metadata": {},
     "execution_count": 12
    }
   ],
   "source": [
    "with open(\"/home/wujinjie/pytorch_seq2seq/sighan_raw/pair_data/simplified/train15_error.txt\",\"r\") as f:\n",
    "    lines = f.readlines()\n",
    "lines = list(map(preprocess, lines))\n",
    "lines[0:10]"
   ]
  },
  {
   "cell_type": "code",
   "execution_count": 8,
   "metadata": {},
   "outputs": [
    {
     "output_type": "execute_result",
     "data": {
      "text/plain": [
       "['但是我不能去参加，因为我有一点事情啊！\\n',\n",
       " '听起来是一份很好的公司。有意思又很多钱。\\n',\n",
       " '因为我下个礼拜有很重要的考试，所以得要好好地复习。\\n',\n",
       " '敬祝身体健康。\\n',\n",
       " '我很高兴听说你已经找到了工作。我真恭喜妳啊。\\n',\n",
       " '听说你准备开一个祝会，那天我不能跟你参加。我很抱歉啊。\\n',\n",
       " '我知道，你很久以前找工作很辛苦。\\n',\n",
       " '我很想参加你的舞会因为你的舞会总是很好玩。\\n',\n",
       " '我下个星期非常忙所以我不能参加你的舞会。\\n',\n",
       " '我下个星期天我妈妈会来台湾。\\n']"
      ]
     },
     "metadata": {},
     "execution_count": 8
    }
   ],
   "source": [
    "with open(\"/home/wujinjie/pytorch_seq2seq/sighan_raw/pair_data/simplified/train15_correct.txt\",\"r\") as f:\n",
    "    lines = f.readlines()\n",
    "lines[0:10]"
   ]
  },
  {
   "cell_type": "code",
   "execution_count": null,
   "metadata": {},
   "outputs": [],
   "source": []
  }
 ]
}